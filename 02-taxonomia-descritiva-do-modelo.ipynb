{
 "cells": [
  {
   "cell_type": "code",
   "execution_count": null,
   "metadata": {},
   "outputs": [],
   "source": [
    "## Bases teóricas\n",
    "\n",
    "    # A cidade não é uma massa homogênea, heterogeneidade\n",
    "    # As polĩticas públicas dependem de domĩnios geográficos e atributos simples para seu sucesso\n",
    "    # Quanto maior a velocidade da via maior a sinistralidade\n",
    "    # As vias locais tem sinistralidade mais baixa\n",
    "    "
   ]
  },
  {
   "cell_type": "code",
   "execution_count": null,
   "metadata": {},
   "outputs": [],
   "source": []
  }
 ],
 "metadata": {
  "kernelspec": {
   "display_name": "Python 3.8.5 ('venv': venv)",
   "language": "python",
   "name": "python3"
  },
  "language_info": {
   "codemirror_mode": {
    "name": "ipython",
    "version": 3
   },
   "file_extension": ".py",
   "mimetype": "text/x-python",
   "name": "python",
   "nbconvert_exporter": "python",
   "pygments_lexer": "ipython3",
   "version": "3.8.5"
  },
  "orig_nbformat": 4,
  "vscode": {
   "interpreter": {
    "hash": "94525d7fc74f0401f5a6ee9452771addf1d8c7efc29e4c0c851fc7ecaee2e5aa"
   }
  }
 },
 "nbformat": 4,
 "nbformat_minor": 2
}
